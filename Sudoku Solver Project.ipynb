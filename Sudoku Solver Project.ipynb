{
 "cells": [
  {
   "cell_type": "markdown",
   "id": "54823c3f",
   "metadata": {},
   "source": [
    "# Sudoku Solver"
   ]
  },
  {
   "cell_type": "markdown",
   "id": "03632db7",
   "metadata": {},
   "source": [
    "## Steps for the Solver function:\n",
    "Step 1. Choose somewhere on the puzzle to make a guess (Helper function: find_next_empty) \\\n",
    "Step 1.1. If there is nowhere left, then the puzzle is solved because we only allowed valid inputs \\\n",
    "Step 2: If there is a place to put a number, then make a guess between 1 and 9 \\\n",
    "Step 3: Check if this is a valid guess (Helper function: is_valid) \\\n",
    "Step 3.1: If the guess is valid, then place it on the puzzle (mutates puzzle) \\\n",
    "Step 4: Recursively call our function \\\n",
    "Step 5: If the guess is not valid OR if the guess does not solve the puzzle, then backtrack and try a new number \\\n",
    "Step 6: If none of the numbers that we have tried work, then this puzzle is unsolvable"
   ]
  },
  {
   "cell_type": "markdown",
   "id": "b8d764b6",
   "metadata": {},
   "source": [
    "## 1. Print the puzzle: print_puzzle()"
   ]
  },
  {
   "cell_type": "code",
   "execution_count": 1,
   "id": "43f5a9f1",
   "metadata": {},
   "outputs": [],
   "source": [
    "def print_puzzle(puzzle):\n",
    "    # if no puzzle to print, print \"No Solution\"\n",
    "    if puzzle is None:\n",
    "        print(\"No Solution\")\n",
    "        return\n",
    "    line = \"-\" * 25\n",
    "    if puzzle == []:\n",
    "        print(\"Empty Matrix\")\n",
    "    num_of_rows = len(puzzle)\n",
    "    num_of_cols = len(puzzle[0])\n",
    "\n",
    "    for i in range(num_of_rows):\n",
    "        # print line every 3 rows\n",
    "        if i % 3 == 0:\n",
    "            print(line)\n",
    "        row_to_print = \"\"\n",
    "        for j in range(num_of_cols):\n",
    "            # print vertical bar every 3 column\n",
    "            if j % 3 == 0:\n",
    "                row_to_print += \"| \"\n",
    "            value = str(puzzle[i][j]) if puzzle[i][j] > 0 else \" \" # empty entries\n",
    "            row_to_print += value + \" \"\n",
    "        row_to_print += \"|\"\n",
    "        print(row_to_print)\n",
    "    print(line)"
   ]
  },
  {
   "cell_type": "markdown",
   "id": "a7d66f87",
   "metadata": {},
   "source": [
    "## 2. Choose somewhere on the puzzle to make a guess: find_next_empty()"
   ]
  },
  {
   "cell_type": "code",
   "execution_count": 2,
   "id": "5d8222d7",
   "metadata": {},
   "outputs": [],
   "source": [
    "def find_next_empty(puzzle):\n",
    "    # finds the next (row, col) on the puzzle that is not filled yet (i.e. -1)\n",
    "    # returns (row, col) tuple (or (None, None) if there is none)\n",
    "\n",
    "    for r in range(9):\n",
    "        for c in range(9):\n",
    "            if puzzle[r][c] == -1:\n",
    "                return r, c\n",
    "    \n",
    "    return None, None # if no spaces in the puzzle are empty (-1)"
   ]
  },
  {
   "cell_type": "markdown",
   "id": "7789e069",
   "metadata": {},
   "source": [
    "## 3. Check whether the guess is valid: is_valid()"
   ]
  },
  {
   "cell_type": "code",
   "execution_count": 3,
   "id": "23d3ec79",
   "metadata": {},
   "outputs": [],
   "source": [
    "def is_valid(puzzle, guess, row, col):\n",
    "    # checks whether the guess at the (row, col) of the puzzle is a valid guess\n",
    "    # returns True if is valid, False otherwise\n",
    "\n",
    "    # for a guess to be valid, then we need to follow the sudoku rules\n",
    "    # that number must not be repeated in the row, column, or 3x3 square that it appears in\n",
    "\n",
    "    # check 1: row\n",
    "    row_vals = puzzle[row]\n",
    "    if guess in row_vals:\n",
    "        return False # if repeated, then the guess is not valid\n",
    "    \n",
    "    # check 2: column\n",
    "    col_vals = [puzzle[i][col] for i in range(9)] # list comprehension\n",
    "    if guess in col_vals:\n",
    "        return False # if repeated, then the guess is not valid\n",
    "    \n",
    "    # check 3: square\n",
    "    # first, go to (row_start, col_start) (i.e. the top left corner) of the 3x3 square that the (row, col) appears in\n",
    "    row_start = (row // 3) * 3 # floor division / integer division\n",
    "    col_start = (col // 3) * 3\n",
    "    \n",
    "    # then, iterate over the 3 values in the row and column (i.e. iterate over the square)\n",
    "    for r in range(row_start, row_start + 3):\n",
    "        for c in range(col_start, col_start + 3):\n",
    "            if puzzle[r][c] == guess:\n",
    "                return False # if repeated, then the guess is not valid\n",
    "    \n",
    "    # if we get here, these checks pass\n",
    "    return True"
   ]
  },
  {
   "cell_type": "markdown",
   "id": "a3fc84d2",
   "metadata": {},
   "source": [
    "## 4. Solver: solve()"
   ]
  },
  {
   "cell_type": "code",
   "execution_count": 4,
   "id": "c8b3e2ee",
   "metadata": {},
   "outputs": [],
   "source": [
    "def solve(puzzle):\n",
    "    # solves sudoku using backtracking\n",
    "    # the puzzle is a list of lists, where each inner list is a row in the sudoku puzzle\n",
    "    # returns whether a solution exists\n",
    "    # mutates puzzle to be the solution (if solution exists)\n",
    "\n",
    "    # step 1: choose somewhere on the puzzle to make a guess\n",
    "    row, col = find_next_empty(puzzle)\n",
    "\n",
    "    # step 1.1: if there is nowhere left, then the puzzle is solved because we only allowed valid inputs\n",
    "    if row is None: # this is true if the find_next_empty function returns (None, None)\n",
    "        return True\n",
    "    \n",
    "    # step 2: if there is a place to put a number, then make a guess between 1 and 9\n",
    "    for guess in range(1, 10):\n",
    "        # step 3: check if this is a valid guess\n",
    "        if is_valid(puzzle, guess, row, col):\n",
    "            # step 3.1: if the guess is valid, then place it on the puzzle (mutates puzzle)\n",
    "            puzzle[row][col] = guess\n",
    "            # step 4: recursively call our function\n",
    "            if solve(puzzle):\n",
    "                return True\n",
    "        \n",
    "        # step 5: if the guess is not valid OR if the guess does not solve the puzzle, then backtrack and try a new number\n",
    "        puzzle[row][col] = -1 # reset the guess\n",
    "\n",
    "    # step 6: if none of the numbers that we have tried work, then this puzzle is unsolvable\n",
    "    return False"
   ]
  },
  {
   "cell_type": "markdown",
   "id": "e0b701d2",
   "metadata": {},
   "source": [
    "## Test 1: Solvable puzzle"
   ]
  },
  {
   "cell_type": "code",
   "execution_count": 5,
   "id": "acd5a2b8",
   "metadata": {},
   "outputs": [],
   "source": [
    "example_board = [\n",
    "    [3, 9, -1,   -1, 5, -1,   -1, -1, -1],\n",
    "    [-1, -1, -1,   2, -1, -1,   -1, -1, 5],\n",
    "    [-1, -1, -1,   7, 1, 9,   -1, 8, -1],\n",
    "\n",
    "    [-1, 5, -1,   -1, 6, 8,   -1, -1, -1],\n",
    "    [2, -1, 6,   -1, -1, 3,   -1, -1, -1],\n",
    "    [-1, -1, -1,   -1, -1, -1,   -1, -1, 4],\n",
    "\n",
    "    [5, -1, -1,   -1, -1, -1,   -1, -1, -1],\n",
    "    [6, 7, -1,   1, -1, 5,   -1, 4, -1],\n",
    "    [1, -1, 9,   -1, -1, -1,   2, -1, -1]\n",
    "]"
   ]
  },
  {
   "cell_type": "code",
   "execution_count": 6,
   "id": "2cd6014e",
   "metadata": {
    "scrolled": true
   },
   "outputs": [
    {
     "name": "stdout",
     "output_type": "stream",
     "text": [
      "-------------------------\n",
      "| 3 9   |   5   |       |\n",
      "|       | 2     |     5 |\n",
      "|       | 7 1 9 |   8   |\n",
      "-------------------------\n",
      "|   5   |   6 8 |       |\n",
      "| 2   6 |     3 |       |\n",
      "|       |       |     4 |\n",
      "-------------------------\n",
      "| 5     |       |       |\n",
      "| 6 7   | 1   5 |   4   |\n",
      "| 1   9 |       | 2     |\n",
      "-------------------------\n"
     ]
    }
   ],
   "source": [
    "print_puzzle(example_board) # display the puzzle"
   ]
  },
  {
   "cell_type": "code",
   "execution_count": 7,
   "id": "005db38b",
   "metadata": {},
   "outputs": [
    {
     "name": "stdout",
     "output_type": "stream",
     "text": [
      "True\n"
     ]
    }
   ],
   "source": [
    "print(solve(example_board)) # print True if solvable, False otherwise"
   ]
  },
  {
   "cell_type": "code",
   "execution_count": 8,
   "id": "bf3962f8",
   "metadata": {},
   "outputs": [
    {
     "name": "stdout",
     "output_type": "stream",
     "text": [
      "-------------------------\n",
      "| 3 9 1 | 8 5 6 | 4 2 7 |\n",
      "| 8 6 7 | 2 3 4 | 9 1 5 |\n",
      "| 4 2 5 | 7 1 9 | 6 8 3 |\n",
      "-------------------------\n",
      "| 7 5 4 | 9 6 8 | 1 3 2 |\n",
      "| 2 1 6 | 4 7 3 | 5 9 8 |\n",
      "| 9 3 8 | 5 2 1 | 7 6 4 |\n",
      "-------------------------\n",
      "| 5 4 3 | 6 9 2 | 8 7 1 |\n",
      "| 6 7 2 | 1 8 5 | 3 4 9 |\n",
      "| 1 8 9 | 3 4 7 | 2 5 6 |\n",
      "-------------------------\n"
     ]
    }
   ],
   "source": [
    "print_puzzle(example_board) if solve(example_board) else print(\"Unsolvable\") # display the solution if solvable"
   ]
  },
  {
   "cell_type": "markdown",
   "id": "048a9d37",
   "metadata": {},
   "source": [
    "## Test 2: Unsolvable puzzle"
   ]
  },
  {
   "cell_type": "code",
   "execution_count": 9,
   "id": "abeb9e22",
   "metadata": {},
   "outputs": [],
   "source": [
    "example_board_2 = [\n",
    "    [3, 9, -1,   -1, 5, -1,   -1, -1, -1],\n",
    "    [-1, 9, -1,   2, -1, -1,   -1, -1, 5],\n",
    "    [-1, -1, -1,   7, 1, 9,   -1, 8, -1],\n",
    "\n",
    "    [-1, 5, -1,   -1, 6, 8,   -1, -1, -1],\n",
    "    [2, -1, 6,   -1, -1, 3,   -1, -1, -1],\n",
    "    [-1, -1, -1,   -1, -1, -1,   -1, -1, 4],\n",
    "\n",
    "    [5, -1, -1,   -1, -1, -1,   -1, -1, -1],\n",
    "    [6, 7, -1,   1, -1, 5,   -1, 4, -1],\n",
    "    [1, -1, 9,   -1, -1, -1,   2, -1, -1]\n",
    "] # unsolvable"
   ]
  },
  {
   "cell_type": "code",
   "execution_count": 10,
   "id": "c8648c5a",
   "metadata": {},
   "outputs": [
    {
     "name": "stdout",
     "output_type": "stream",
     "text": [
      "-------------------------\n",
      "| 3 9   |   5   |       |\n",
      "|   9   | 2     |     5 |\n",
      "|       | 7 1 9 |   8   |\n",
      "-------------------------\n",
      "|   5   |   6 8 |       |\n",
      "| 2   6 |     3 |       |\n",
      "|       |       |     4 |\n",
      "-------------------------\n",
      "| 5     |       |       |\n",
      "| 6 7   | 1   5 |   4   |\n",
      "| 1   9 |       | 2     |\n",
      "-------------------------\n"
     ]
    }
   ],
   "source": [
    "print_puzzle(example_board_2) # display the puzzle"
   ]
  },
  {
   "cell_type": "code",
   "execution_count": 11,
   "id": "ed758d22",
   "metadata": {},
   "outputs": [
    {
     "name": "stdout",
     "output_type": "stream",
     "text": [
      "False\n"
     ]
    }
   ],
   "source": [
    "print(solve(example_board_2)) # print True if solvable, False otherwise"
   ]
  },
  {
   "cell_type": "code",
   "execution_count": 12,
   "id": "2d40cc5d",
   "metadata": {},
   "outputs": [
    {
     "name": "stdout",
     "output_type": "stream",
     "text": [
      "Unsolvable\n"
     ]
    }
   ],
   "source": [
    "print_puzzle(example_board_2) if solve(example_board_2) else print(\"Unsolvable\") # display the solution if solvable"
   ]
  },
  {
   "cell_type": "code",
   "execution_count": null,
   "id": "1aa5b96a",
   "metadata": {},
   "outputs": [],
   "source": []
  }
 ],
 "metadata": {
  "kernelspec": {
   "display_name": "Python 3 (ipykernel)",
   "language": "python",
   "name": "python3"
  },
  "language_info": {
   "codemirror_mode": {
    "name": "ipython",
    "version": 3
   },
   "file_extension": ".py",
   "mimetype": "text/x-python",
   "name": "python",
   "nbconvert_exporter": "python",
   "pygments_lexer": "ipython3",
   "version": "3.9.7"
  }
 },
 "nbformat": 4,
 "nbformat_minor": 5
}
